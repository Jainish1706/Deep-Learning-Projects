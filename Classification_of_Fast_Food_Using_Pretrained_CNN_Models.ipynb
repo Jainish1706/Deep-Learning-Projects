{
  "nbformat": 4,
  "nbformat_minor": 0,
  "metadata": {
    "colab": {
      "provenance": [],
      "gpuType": "T4"
    },
    "kernelspec": {
      "name": "python3",
      "display_name": "Python 3"
    },
    "language_info": {
      "name": "python"
    }
  },
  "cells": [
    {
      "cell_type": "markdown",
      "source": [
        "Importing Libraries\n"
      ],
      "metadata": {
        "id": "LZPPYcL72M62"
      }
    },
    {
      "cell_type": "code",
      "source": [
        "!pip install opendatasets\n",
        "import opendatasets as od\n",
        "import os\n",
        "import matplotlib.pyplot as plt\n",
        "import plotly\n",
        "import plotly.express as px\n",
        "import tensorflow as tf\n",
        "from keras.preprocessing.image import ImageDataGenerator as IDG\n",
        "from keras.applications import ResNet50V2, VGG16, Xception, InceptionV3, DenseNet121\n",
        "from keras.callbacks import EarlyStopping, ModelCheckpoint\n",
        "from keras.metrics import categorical_crossentropy\n",
        "from keras.models import Model\n",
        "from keras.layers import GlobalAveragePooling2D, Dense\n",
        "from keras.layers import Conv2D, MaxPooling2D, Flatten, Dense, Dropout\n",
        "from keras.models import Sequential"
      ],
      "metadata": {
        "id": "d1FuoEtZ-ZIS"
      },
      "execution_count": 2,
      "outputs": []
    },
    {
      "cell_type": "markdown",
      "source": [
        "Getting the Data\n"
      ],
      "metadata": {
        "id": "kj78cjTVyeEe"
      }
    },
    {
      "cell_type": "code",
      "source": [
        "dataset = \"https://www.kaggle.com/datasets/utkarshsaxenadn/fast-food-classification-dataset\""
      ],
      "metadata": {
        "id": "Wobo03Un-a3Q"
      },
      "execution_count": 3,
      "outputs": []
    },
    {
      "cell_type": "code",
      "source": [
        "od.download(dataset)"
      ],
      "metadata": {
        "id": "mCzbXGjv-cp1"
      },
      "execution_count": null,
      "outputs": []
    },
    {
      "cell_type": "code",
      "source": [
        "data_dir = \"./fast-food-classification-dataset\"\n",
        "os.listdir(data_dir)"
      ],
      "metadata": {
        "id": "AsChR0ty-eMC"
      },
      "execution_count": null,
      "outputs": []
    },
    {
      "cell_type": "code",
      "source": [
        "train_path = \"fast-food-classification-dataset/Fast Food Classification V2/Train\"\n",
        "valid_path = \"fast-food-classification-dataset/Fast Food Classification V2/Valid\"\n",
        "test_path = \"fast-food-classification-dataset/Fast Food Classification V2/Test\""
      ],
      "metadata": {
        "id": "vfm8jmFO-hqp"
      },
      "execution_count": 6,
      "outputs": []
    },
    {
      "cell_type": "code",
      "source": [
        "class_names = sorted(os.listdir(train_path))\n",
        "n_classes = len(class_names)\n",
        "print(\"No Classes: {}\" .format(n_classes))\n",
        "print(\"Classes: {}\" .format(class_names))"
      ],
      "metadata": {
        "id": "O1yzbZY4-lBV"
      },
      "execution_count": null,
      "outputs": []
    },
    {
      "cell_type": "code",
      "source": [
        "class_dis_train = [len(os.listdir(os.path.join(train_path, name))) for name in class_names]\n",
        "class_dis_valid = [len(os.listdir(os.path.join(valid_path, name))) for name in class_names]"
      ],
      "metadata": {
        "id": "h6_joSWk-m1R"
      },
      "execution_count": 8,
      "outputs": []
    },
    {
      "cell_type": "markdown",
      "source": [
        "EDA\n"
      ],
      "metadata": {
        "id": "jvlsBuNcrPIz"
      }
    },
    {
      "cell_type": "code",
      "source": [
        "plt.barh(class_names, class_dis_train)\n",
        "plt.title(\"Training Class Distribution\")\n",
        "plt.show()\n",
        "\n",
        "plt.barh(class_names, class_dis_valid)\n",
        "plt.title(\"Validation Class Distribution\")\n",
        "plt.show()\n",
        "\n",
        "class_dis = [len(os.listdir(train_path)) for name in class_names]\n",
        "\n",
        "fig = px.pie(names = class_names, values = class_dis, hole = 0.3)\n",
        "fig.update_layout({\"title\": {'text': \"Training class distribution\", 'x':0.48}})\n",
        "fig.show()\n",
        "\n",
        "fig  = px.bar(x = class_names, y = class_dis, color = class_names)\n",
        "fig.show()\n",
        "\n",
        "class_dis = [len(os.listdir(valid_path)) for names in class_names]\n",
        "\n",
        "fig = px.pie(names = class_names, values = class_dis, hole = 0.3)\n",
        "fig.update_layout({\"title\": {'text': \"Validation Class Distribution\", 'x':0.48}})\n",
        "fig.show()\n",
        "\n",
        "fig = px.bar(x = class_names, y = class_dis, color = class_names)\n",
        "fig.show()"
      ],
      "metadata": {
        "id": "dXessforrQ1l"
      },
      "execution_count": null,
      "outputs": []
    },
    {
      "cell_type": "markdown",
      "source": [
        "Data Preprocessing"
      ],
      "metadata": {
        "id": "2d3HdnVgyavb"
      }
    },
    {
      "cell_type": "code",
      "source": [
        "train_gen = IDG(rescale = 1./255, rotation_range = 10, horizontal_flip = True, vertical_flip = False)\n",
        "valid_gen = IDG(rescale = 1./255)\n",
        "\n",
        "train_ds = train_gen.flow_from_directory(train_path, shuffle = True, batch_size = 64, target_size = (256,256), class_mode = 'categorical')\n",
        "valid_ds = valid_gen.flow_from_directory(valid_path, shuffle = True, batch_size = 32, target_size = (256,256), class_mode = 'categorical')"
      ],
      "metadata": {
        "id": "eJUqUalTHFWa"
      },
      "execution_count": null,
      "outputs": []
    },
    {
      "cell_type": "markdown",
      "source": [
        "RESNET\n"
      ],
      "metadata": {
        "id": "RK-XiNNPIceh"
      }
    },
    {
      "cell_type": "code",
      "source": [
        "base_model = ResNet50V2(weights = 'imagenet', include_top = False, input_shape = (256, 256, 3))\n",
        "x = base_model.output\n",
        "x = GlobalAveragePooling2D()(x)\n",
        "x = Dense(128, activation='relu')(x)\n",
        "x = Dropout(0.6)(x)\n",
        "predictions = Dense(len(class_names), activation = 'softmax')(x)\n",
        "model = Model(inputs = base_model.input, outputs = predictions)\n",
        "for layer in base_model.layers:\n",
        "  layer.trainable = False\n",
        "\n",
        "cbs = [\n",
        "    EarlyStopping(patience=3, restore_best_weights=True),\n",
        "    ModelCheckpoint('food-classifier_resnet50v2.h5', save_best_only=True)\n",
        "]\n",
        "\n",
        "model.compile(\n",
        "    loss='categorical_crossentropy',\n",
        "    optimizer=tf.keras.optimizers.Adam(learning_rate=2e-4),\n",
        "    metrics=['accuracy']\n",
        ")\n",
        "\n",
        "history = model.fit(train_ds, validation_data=valid_ds, epochs=10, callbacks=cbs)\n",
        "\n",
        "plt.plot(history.history['accuracy'], label = 'accuracy')\n",
        "plt.plot(history.history['val_accuracy'], label = 'val_accuracy')\n",
        "plt.xlabel('Epoch')\n",
        "plt.ylabel('Accuracy')\n",
        "plt.ylim([0,1])\n",
        "plt.legend(loc = 'lower right')\n",
        "plt.savefig('Resnet_Acc.png')\n",
        "plt.show()\n",
        "\n",
        "plt.plot(history.history['loss'], label = 'loss')\n",
        "plt.plot(history.history['val_loss'], label = 'val_loss')\n",
        "plt.xlabel('Epoch')\n",
        "plt.ylabel('Loss')\n",
        "plt.legend(loc = 'lower right')\n",
        "plt.savefig('Resnet_Loss.png')\n",
        "plt.show()"
      ],
      "metadata": {
        "id": "LFoe5S01uMXG"
      },
      "execution_count": null,
      "outputs": []
    },
    {
      "cell_type": "markdown",
      "source": [
        "VGG16\n"
      ],
      "metadata": {
        "id": "KGAWSkiUIe7v"
      }
    },
    {
      "cell_type": "code",
      "source": [
        "base_model = VGG16(weights = 'imagenet', include_top = False, input_shape = (256, 256, 3))\n",
        "x = base_model.output\n",
        "x = GlobalAveragePooling2D()(x)\n",
        "x = Dense(128, activation='relu')(x)\n",
        "x = Dropout(0.6)(x)\n",
        "predictions = Dense(len(class_names), activation = 'softmax')(x)\n",
        "model = Model(inputs = base_model.input, outputs = predictions)\n",
        "for layer in base_model.layers:\n",
        "  layer.trainable = False\n",
        "\n",
        "cbs = [\n",
        "    EarlyStopping(patience=3, restore_best_weights=True),\n",
        "    ModelCheckpoint('food-classifier_resnet50v2.h5', save_best_only=True)\n",
        "]\n",
        "\n",
        "model.compile(\n",
        "    loss='categorical_crossentropy',\n",
        "    optimizer=tf.keras.optimizers.Adam(learning_rate=2e-4),\n",
        "    metrics=['accuracy']\n",
        ")\n",
        "\n",
        "history = model.fit(train_ds, validation_data=valid_ds, epochs=10, callbacks=cbs)\n",
        "plt.plot(history.history['accuracy'], label = 'accuracy')\n",
        "plt.plot(history.history['val_accuracy'], label = 'val_accuracy')\n",
        "plt.xlabel('Epoch')\n",
        "plt.ylabel('Accuracy')\n",
        "plt.ylim([0,1])\n",
        "plt.legend(loc = 'lower right')\n",
        "plt.savefig('VGG16_Acc.png')\n",
        "plt.show()\n",
        "\n",
        "plt.plot(history.history['loss'], label = 'loss')\n",
        "plt.plot(history.history['val_loss'], label = 'val_loss')\n",
        "plt.xlabel('Epoch')\n",
        "plt.ylabel('Loss')\n",
        "plt.legend(loc = 'lower right')\n",
        "plt.savefig('VGG16_Loss.png')\n",
        "plt.show()"
      ],
      "metadata": {
        "id": "FRrW4XygIgaf"
      },
      "execution_count": null,
      "outputs": []
    },
    {
      "cell_type": "markdown",
      "source": [
        "Xception"
      ],
      "metadata": {
        "id": "HfEUUkfXq0BP"
      }
    },
    {
      "cell_type": "code",
      "source": [
        "base_model = Xception(weights = 'imagenet', include_top = False, input_shape = (256, 256, 3))\n",
        "x = base_model.output\n",
        "x = GlobalAveragePooling2D()(x)\n",
        "x = Dense(128, activation='relu')(x)\n",
        "x = Dropout(0.6)(x)\n",
        "predictions = Dense(len(class_names), activation = 'softmax')(x)\n",
        "model = Model(inputs = base_model.input, outputs = predictions)\n",
        "for layer in base_model.layers:\n",
        "  layer.trainable = False\n",
        "\n",
        "cbs = [\n",
        "    EarlyStopping(patience=3, restore_best_weights=True),\n",
        "    ModelCheckpoint('food-classifier_resnet50v2.h5', save_best_only=True)\n",
        "]\n",
        "\n",
        "model.compile(\n",
        "    loss='categorical_crossentropy',\n",
        "    optimizer=tf.keras.optimizers.Adam(learning_rate=2e-4),\n",
        "    metrics=['accuracy']\n",
        ")\n",
        "\n",
        "history = model.fit(train_ds, validation_data=valid_ds, epochs=10, callbacks=cbs)\n",
        "\n",
        "\n",
        "plt.plot(history.history['accuracy'], label = 'accuracy')\n",
        "plt.plot(history.history['val_accuracy'], label = 'val_accuracy')\n",
        "plt.xlabel('Epoch')\n",
        "plt.ylabel('Accuracy')\n",
        "plt.ylim([0,1])\n",
        "plt.legend(loc = 'lower right')\n",
        "plt.savefig('Xception_Acc.png')\n",
        "plt.show()\n",
        "\n",
        "plt.plot(history.history['loss'], label = 'loss')\n",
        "plt.plot(history.history['val_loss'], label = 'val_loss')\n",
        "plt.xlabel('Epoch')\n",
        "plt.ylabel('Loss')\n",
        "plt.legend(loc = 'lower right')\n",
        "plt.savefig('Xception_Loss.png')\n",
        "plt.show()"
      ],
      "metadata": {
        "id": "iRP86bdbq1MY"
      },
      "execution_count": null,
      "outputs": []
    },
    {
      "cell_type": "markdown",
      "source": [
        "InceptionV3\n"
      ],
      "metadata": {
        "id": "uj1GbHY3yjve"
      }
    },
    {
      "cell_type": "code",
      "source": [
        "base_model = InceptionV3(weights = 'imagenet', include_top = False, input_shape = (256, 256, 3))\n",
        "x = base_model.output\n",
        "x = GlobalAveragePooling2D()(x)\n",
        "x = Dense(128, activation='relu')(x)\n",
        "x = Dropout(0.6)(x)\n",
        "predictions = Dense(len(class_names), activation = 'softmax')(x)\n",
        "model = Model(inputs = base_model.input, outputs = predictions)\n",
        "for layer in base_model.layers:\n",
        "  layer.trainable = False\n",
        "\n",
        "cbs = [\n",
        "    EarlyStopping(patience=3, restore_best_weights=True),\n",
        "    ModelCheckpoint('food-classifier_resnet50v2.h5', save_best_only=True)\n",
        "]\n",
        "\n",
        "model.compile(\n",
        "    loss='categorical_crossentropy',\n",
        "    optimizer=tf.keras.optimizers.Adam(learning_rate=2e-4),\n",
        "    metrics=['accuracy']\n",
        ")\n",
        "\n",
        "history = model.fit(train_ds, validation_data=valid_ds, epochs=10, callbacks=cbs)\n",
        "\n",
        "plt.plot(history.history['accuracy'], label = 'accuracy')\n",
        "plt.plot(history.history['val_accuracy'], label = 'val_accuracy')\n",
        "plt.xlabel('Epoch')\n",
        "plt.ylabel('Accuracy')\n",
        "plt.ylim([0,1])\n",
        "plt.legend(loc = 'lower right')\n",
        "plt.savefig('Inception_Acc.png')\n",
        "plt.show()\n",
        "\n",
        "plt.plot(history.history['loss'], label = 'loss')\n",
        "plt.plot(history.history['val_loss'], label = 'val_loss')\n",
        "plt.xlabel('Epoch')\n",
        "plt.ylabel('Loss')\n",
        "plt.legend(loc = 'lower right')\n",
        "plt.savefig('Inception_Loss.png')\n",
        "plt.show()"
      ],
      "metadata": {
        "id": "Fzp2bEOnyl9u"
      },
      "execution_count": null,
      "outputs": []
    },
    {
      "cell_type": "markdown",
      "source": [
        "DenseNet121"
      ],
      "metadata": {
        "id": "Tuqq_R1uymbO"
      }
    },
    {
      "cell_type": "code",
      "source": [
        "base_model = DenseNet121(weights = 'imagenet', include_top = False, input_shape = (256, 256, 3))\n",
        "\n",
        "x = base_model.output\n",
        "x = GlobalAveragePooling2D()(x)\n",
        "x = Dense(128, activation='relu')(x)\n",
        "x = Dropout(0.6)(x)\n",
        "predictions = Dense(len(class_names), activation = 'softmax')(x)\n",
        "model = Model(inputs = base_model.input, outputs = predictions)\n",
        "for layer in base_model.layers:\n",
        "  layer.trainable = False\n",
        "\n",
        "cbs = [\n",
        "    EarlyStopping(patience=3, restore_best_weights=True),\n",
        "    ModelCheckpoint('food-classifier_resnet50v2.h5', save_best_only=True)\n",
        "]\n",
        "\n",
        "model.compile(\n",
        "    loss='categorical_crossentropy',\n",
        "    optimizer=tf.keras.optimizers.Adam(learning_rate=2e-4),\n",
        "    metrics=['accuracy']\n",
        ")\n",
        "\n",
        "history = model.fit(train_ds, validation_data=valid_ds, epochs=10, callbacks=cbs)\n",
        "\n",
        "plt.plot(history.history['accuracy'], label = 'accuracy')\n",
        "plt.plot(history.history['val_accuracy'], label = 'val_accuracy')\n",
        "plt.xlabel('Epoch')\n",
        "plt.ylabel('Accuracy')\n",
        "plt.ylim([0,1])\n",
        "plt.legend(loc = 'lower right')\n",
        "plt.savefig('Dense_Net_Acc.png')\n",
        "plt.show()\n",
        "\n",
        "plt.plot(history.history['loss'], label = 'loss')\n",
        "plt.plot(history.history['val_loss'], label = 'val_loss')\n",
        "plt.xlabel('Epoch')\n",
        "plt.ylabel('Loss')\n",
        "plt.legend(loc = 'lower right')\n",
        "plt.savefig('Dense_Net_Loss.png')\n",
        "plt.show()"
      ],
      "metadata": {
        "id": "s3cFDKH1ypwo"
      },
      "execution_count": null,
      "outputs": []
    }
  ]
}
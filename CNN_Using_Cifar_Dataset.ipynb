{
  "nbformat": 4,
  "nbformat_minor": 0,
  "metadata": {
    "colab": {
      "provenance": [],
      "gpuType": "T4"
    },
    "kernelspec": {
      "name": "python3",
      "display_name": "Python 3"
    },
    "language_info": {
      "name": "python"
    },
    "accelerator": "GPU"
  },
  "cells": [
    {
      "cell_type": "code",
      "execution_count": null,
      "metadata": {
        "id": "r3JP3MNGS6V_"
      },
      "outputs": [],
      "source": [
        "import tensorflow as tf\n",
        "# from tensorflow import keras\n",
        "from keras.datasets import cifar10\n",
        "import numpy as np\n",
        "import numpy.random as nr\n",
        "import matplotlib.pyplot as plt\n",
        "from keras.models import Sequential\n",
        "from keras.layers import Dense\n",
        "from sklearn.metrics import accuracy_score\n",
        "from keras.layers import Conv2D\n",
        "from keras.layers import MaxPooling2D\n",
        "from keras.layers import Flatten\n",
        "from keras.optimizers import SGD\n",
        "nc = 10"
      ]
    },
    {
      "cell_type": "code",
      "source": [
        "(Xtrain,ytrain), (Xtest, ytest) = cifar10.load_data()"
      ],
      "metadata": {
        "colab": {
          "base_uri": "https://localhost:8080/"
        },
        "id": "U0m4E2XiYyhQ",
        "outputId": "6d8a0796-9855-455b-af44-9a6d9bc2945e"
      },
      "execution_count": null,
      "outputs": [
        {
          "output_type": "stream",
          "name": "stdout",
          "text": [
            "Downloading data from https://www.cs.toronto.edu/~kriz/cifar-10-python.tar.gz\n",
            "170498071/170498071 [==============================] - 4s 0us/step\n"
          ]
        }
      ]
    },
    {
      "cell_type": "code",
      "source": [
        "imgplot1 = plt.imshow(Xtrain[nr.randint(50000)])\n",
        "plt.show()"
      ],
      "metadata": {
        "colab": {
          "base_uri": "https://localhost:8080/",
          "height": 430
        },
        "id": "SV_UwRNhZGSe",
        "outputId": "0714d260-2ef3-4d65-fc3a-eb8af99e3782"
      },
      "execution_count": null,
      "outputs": [
        {
          "output_type": "display_data",
          "data": {
            "text/plain": [
              "<Figure size 640x480 with 1 Axes>"
            ],
            "image/png": "[encoded data removed]"
          },
          "metadata": {}
        }
      ]
    },
    {
      "cell_type": "code",
      "source": [
        "imgplot2 = plt.imshow(Xtrain[nr.randint(50000)])\n",
        "plt.show()"
      ],
      "metadata": {
        "colab": {
          "base_uri": "https://localhost:8080/",
          "height": 430
        },
        "id": "IAZEuQETZSCs",
        "outputId": "2663555d-2a78-4d06-a893-54ef436602b8"
      },
      "execution_count": null,
      "outputs": [
        {
          "output_type": "display_data",
          "data": {
            "text/plain": [
              "<Figure size 640x480 with 1 Axes>"
            ],
            "image/png": "[encoded data removed]"
          },
          "metadata": {}
        }
      ]
    },
    {
      "cell_type": "code",
      "source": [
        "Xtrain = Xtrain.astype('float32')\n",
        "Xtrain = Xtrain[0:20000,:]/255.0\n",
        "Xtest = Xtest.astype('float32')\n",
        "Xtest = Xtest/255.0"
      ],
      "metadata": {
        "id": "-RmjXZd6ZaYp"
      },
      "execution_count": null,
      "outputs": []
    },
    {
      "cell_type": "code",
      "source": [
        "ytrain = ytrain[:,0]\n",
        "ytrainEnc = tf.one_hot(ytrain[0:20000], depth = nc)\n",
        "ytest = ytest[:,0]\n",
        "ytestEnc = tf.one_hot(ytest, depth = nc)"
      ],
      "metadata": {
        "id": "fSB-xUUuZq1e"
      },
      "execution_count": null,
      "outputs": []
    },
    {
      "cell_type": "code",
      "source": [
        "model = Sequential()\n",
        "model.add(Conv2D(32,(3,3), activation = \"relu\", kernel_initializer = \"he_uniform\",padding = 'same', input_shape = (32,32,3)))\n",
        "model.add(Conv2D(32,(3,3), activation = \"relu\", kernel_initializer = \"he_uniform\",padding = 'same'))\n",
        "model.add(MaxPooling2D(2,2))\n",
        "model.add(Conv2D(64,(3,3), activation = \"relu\", kernel_initializer = \"he_uniform\", padding = 'same'))\n",
        "model.add(Conv2D(64,(3,3), activation = \"relu\", kernel_initializer = \"he_uniform\", padding = 'same'))\n",
        "model.add(MaxPooling2D(2,2))\n",
        "model.add(Conv2D(128,(3,3), activation = \"relu\", kernel_initializer = \"he_uniform\", padding = 'same'))\n",
        "model.add(Conv2D(128,(3,3), activation = \"relu\", kernel_initializer = \"he_uniform\", padding = 'same'))\n",
        "model.add(MaxPooling2D(2,2))\n",
        "model.add(Flatten())\n",
        "model.add(Dense(128, activation = \"relu\", kernel_initializer = \"he_uniform\"))\n",
        "model.add(Dense(10,activation = 'softmax'))\n",
        "opt = SGD(learning_rate = 0.001, momentum = 0.9)\n",
        "model.compile(optimizer = opt, loss = 'categorical_crossentropy', metrics = ['accuracy'])"
      ],
      "metadata": {
        "id": "dGHX5CFxZ_bZ"
      },
      "execution_count": null,
      "outputs": []
    },
    {
      "cell_type": "code",
      "source": [
        "history = model.fit(Xtrain, ytrainEnc, epochs = 100, batch_size = 550, validation_data = (Xtest, ytestEnc))"
      ],
      "metadata": {
        "colab": {
          "base_uri": "https://localhost:8080/"
        },
        "id": "LyKBmW32b8LB",
        "outputId": "6d6a4281-bbe8-4cd1-bb3f-d04fd97524f1"
      },
      "execution_count": null,
      "outputs": [
        {
          "output_type": "stream",
          "name": "stdout",
          "text": [
            "Epoch 1/100\n",
            "37/37 [==============================] - 14s 98ms/step - loss: 2.2683 - accuracy: 0.1609 - val_loss: 2.2014 - val_accuracy: 0.2225\n",
            "Epoch 2/100\n",
            "37/37 [==============================] - 2s 45ms/step - loss: 2.1278 - accuracy: 0.2539 - val_loss: 2.0244 - val_accuracy: 0.2928\n",
            "Epoch 3/100\n",
            "37/37 [==============================] - 2s 47ms/step - loss: 1.9653 - accuracy: 0.3056 - val_loss: 1.8977 - val_accuracy: 0.3235\n",
            "Epoch 4/100\n",
            "37/37 [==============================] - 2s 47ms/step - loss: 1.8711 - accuracy: 0.3385 - val_loss: 1.8219 - val_accuracy: 0.3575\n",
            "Epoch 5/100\n",
            "37/37 [==============================] - 2s 48ms/step - loss: 1.7949 - accuracy: 0.3722 - val_loss: 1.7674 - val_accuracy: 0.3899\n",
            "Epoch 6/100\n",
            "37/37 [==============================] - 2s 45ms/step - loss: 1.7444 - accuracy: 0.3810 - val_loss: 1.7174 - val_accuracy: 0.3925\n",
            "Epoch 7/100\n",
            "37/37 [==============================] - 2s 48ms/step - loss: 1.6841 - accuracy: 0.4074 - val_loss: 1.6849 - val_accuracy: 0.3980\n",
            "Epoch 8/100\n",
            "37/37 [==============================] - 2s 45ms/step - loss: 1.6503 - accuracy: 0.4127 - val_loss: 1.6413 - val_accuracy: 0.4236\n",
            "Epoch 9/100\n",
            "37/37 [==============================] - 2s 45ms/step - loss: 1.5981 - accuracy: 0.4324 - val_loss: 1.5742 - val_accuracy: 0.4432\n",
            "Epoch 10/100\n",
            "37/37 [==============================] - 2s 45ms/step - loss: 1.5683 - accuracy: 0.4441 - val_loss: 1.6073 - val_accuracy: 0.4283\n",
            "Epoch 11/100\n",
            "37/37 [==============================] - 2s 49ms/step - loss: 1.5446 - accuracy: 0.4516 - val_loss: 1.5652 - val_accuracy: 0.4469\n",
            "Epoch 12/100\n",
            "37/37 [==============================] - 2s 50ms/step - loss: 1.5034 - accuracy: 0.4645 - val_loss: 1.5020 - val_accuracy: 0.4715\n",
            "Epoch 13/100\n",
            "37/37 [==============================] - 2s 46ms/step - loss: 1.4558 - accuracy: 0.4855 - val_loss: 1.4711 - val_accuracy: 0.4752\n",
            "Epoch 14/100\n",
            "37/37 [==============================] - 2s 46ms/step - loss: 1.4376 - accuracy: 0.4890 - val_loss: 1.5094 - val_accuracy: 0.4533\n",
            "Epoch 15/100\n",
            "37/37 [==============================] - 2s 46ms/step - loss: 1.4335 - accuracy: 0.4875 - val_loss: 1.5599 - val_accuracy: 0.4501\n",
            "Epoch 16/100\n",
            "37/37 [==============================] - 2s 48ms/step - loss: 1.4204 - accuracy: 0.4994 - val_loss: 1.4189 - val_accuracy: 0.4931\n",
            "Epoch 17/100\n",
            "37/37 [==============================] - 2s 48ms/step - loss: 1.3948 - accuracy: 0.5062 - val_loss: 1.4290 - val_accuracy: 0.4898\n",
            "Epoch 18/100\n",
            "37/37 [==============================] - 2s 47ms/step - loss: 1.3928 - accuracy: 0.5105 - val_loss: 1.4633 - val_accuracy: 0.4834\n",
            "Epoch 19/100\n",
            "37/37 [==============================] - 2s 48ms/step - loss: 1.3718 - accuracy: 0.5153 - val_loss: 1.4008 - val_accuracy: 0.5052\n",
            "Epoch 20/100\n",
            "37/37 [==============================] - 2s 46ms/step - loss: 1.3433 - accuracy: 0.5260 - val_loss: 1.4924 - val_accuracy: 0.4780\n",
            "Epoch 21/100\n",
            "37/37 [==============================] - 2s 46ms/step - loss: 1.3395 - accuracy: 0.5276 - val_loss: 1.4271 - val_accuracy: 0.4971\n",
            "Epoch 22/100\n",
            "37/37 [==============================] - 2s 49ms/step - loss: 1.3079 - accuracy: 0.5405 - val_loss: 1.3995 - val_accuracy: 0.4997\n",
            "Epoch 23/100\n",
            "37/37 [==============================] - 2s 47ms/step - loss: 1.3008 - accuracy: 0.5404 - val_loss: 1.3488 - val_accuracy: 0.5200\n",
            "Epoch 24/100\n",
            "37/37 [==============================] - 2s 49ms/step - loss: 1.2741 - accuracy: 0.5534 - val_loss: 1.3641 - val_accuracy: 0.5243\n",
            "Epoch 25/100\n",
            "37/37 [==============================] - 2s 49ms/step - loss: 1.2585 - accuracy: 0.5546 - val_loss: 1.3343 - val_accuracy: 0.5271\n",
            "Epoch 26/100\n",
            "37/37 [==============================] - 2s 51ms/step - loss: 1.2359 - accuracy: 0.5657 - val_loss: 1.3327 - val_accuracy: 0.5279\n",
            "Epoch 27/100\n",
            "37/37 [==============================] - 2s 48ms/step - loss: 1.2337 - accuracy: 0.5667 - val_loss: 1.3529 - val_accuracy: 0.5231\n",
            "Epoch 28/100\n",
            "37/37 [==============================] - 2s 49ms/step - loss: 1.2236 - accuracy: 0.5697 - val_loss: 1.3641 - val_accuracy: 0.5216\n",
            "Epoch 29/100\n",
            "37/37 [==============================] - 2s 46ms/step - loss: 1.2064 - accuracy: 0.5774 - val_loss: 1.3702 - val_accuracy: 0.5076\n",
            "Epoch 30/100\n",
            "37/37 [==============================] - 2s 49ms/step - loss: 1.1904 - accuracy: 0.5798 - val_loss: 1.3084 - val_accuracy: 0.5371\n",
            "Epoch 31/100\n",
            "37/37 [==============================] - 2s 47ms/step - loss: 1.1990 - accuracy: 0.5791 - val_loss: 1.3336 - val_accuracy: 0.5319\n",
            "Epoch 32/100\n",
            "37/37 [==============================] - 2s 46ms/step - loss: 1.1798 - accuracy: 0.5846 - val_loss: 1.3192 - val_accuracy: 0.5373\n",
            "Epoch 33/100\n",
            "37/37 [==============================] - 2s 51ms/step - loss: 1.1462 - accuracy: 0.6012 - val_loss: 1.3123 - val_accuracy: 0.5391\n",
            "Epoch 34/100\n",
            "37/37 [==============================] - 2s 52ms/step - loss: 1.1423 - accuracy: 0.6017 - val_loss: 1.2524 - val_accuracy: 0.5594\n",
            "Epoch 35/100\n",
            "37/37 [==============================] - 2s 53ms/step - loss: 1.1210 - accuracy: 0.6082 - val_loss: 1.2925 - val_accuracy: 0.5419\n",
            "Epoch 36/100\n",
            "37/37 [==============================] - 2s 52ms/step - loss: 1.1158 - accuracy: 0.6101 - val_loss: 1.2711 - val_accuracy: 0.5518\n",
            "Epoch 37/100\n",
            "37/37 [==============================] - 2s 47ms/step - loss: 1.1025 - accuracy: 0.6182 - val_loss: 1.2793 - val_accuracy: 0.5520\n",
            "Epoch 38/100\n",
            "37/37 [==============================] - 2s 47ms/step - loss: 1.0765 - accuracy: 0.6253 - val_loss: 1.2460 - val_accuracy: 0.5600\n",
            "Epoch 39/100\n",
            "37/37 [==============================] - 2s 49ms/step - loss: 1.0657 - accuracy: 0.6294 - val_loss: 1.2872 - val_accuracy: 0.5546\n",
            "Epoch 40/100\n",
            "37/37 [==============================] - 2s 49ms/step - loss: 1.0421 - accuracy: 0.6428 - val_loss: 1.2759 - val_accuracy: 0.5560\n",
            "Epoch 41/100\n",
            "37/37 [==============================] - 2s 52ms/step - loss: 1.0355 - accuracy: 0.6449 - val_loss: 1.3078 - val_accuracy: 0.5494\n",
            "Epoch 42/100\n",
            "37/37 [==============================] - 2s 48ms/step - loss: 1.0458 - accuracy: 0.6360 - val_loss: 1.2221 - val_accuracy: 0.5678\n",
            "Epoch 43/100\n",
            "37/37 [==============================] - 2s 50ms/step - loss: 1.0116 - accuracy: 0.6484 - val_loss: 1.2569 - val_accuracy: 0.5651\n",
            "Epoch 44/100\n",
            "37/37 [==============================] - 2s 47ms/step - loss: 1.0004 - accuracy: 0.6576 - val_loss: 1.2221 - val_accuracy: 0.5741\n",
            "Epoch 45/100\n",
            "37/37 [==============================] - 2s 51ms/step - loss: 0.9962 - accuracy: 0.6557 - val_loss: 1.2531 - val_accuracy: 0.5663\n",
            "Epoch 46/100\n",
            "37/37 [==============================] - 2s 54ms/step - loss: 0.9810 - accuracy: 0.6615 - val_loss: 1.1962 - val_accuracy: 0.5823\n",
            "Epoch 47/100\n",
            "37/37 [==============================] - 2s 52ms/step - loss: 0.9611 - accuracy: 0.6695 - val_loss: 1.2078 - val_accuracy: 0.5818\n",
            "Epoch 48/100\n",
            "37/37 [==============================] - 2s 50ms/step - loss: 0.9551 - accuracy: 0.6704 - val_loss: 1.2546 - val_accuracy: 0.5597\n",
            "Epoch 49/100\n",
            "37/37 [==============================] - 2s 48ms/step - loss: 0.9623 - accuracy: 0.6668 - val_loss: 1.2269 - val_accuracy: 0.5754\n",
            "Epoch 50/100\n",
            "37/37 [==============================] - 2s 50ms/step - loss: 0.9263 - accuracy: 0.6830 - val_loss: 1.2139 - val_accuracy: 0.5774\n",
            "Epoch 51/100\n",
            "37/37 [==============================] - 2s 48ms/step - loss: 0.9236 - accuracy: 0.6819 - val_loss: 1.1824 - val_accuracy: 0.5857\n",
            "Epoch 52/100\n",
            "37/37 [==============================] - 2s 50ms/step - loss: 0.8826 - accuracy: 0.6998 - val_loss: 1.2350 - val_accuracy: 0.5732\n",
            "Epoch 53/100\n",
            "37/37 [==============================] - 2s 50ms/step - loss: 0.9010 - accuracy: 0.6878 - val_loss: 1.2382 - val_accuracy: 0.5712\n",
            "Epoch 54/100\n",
            "37/37 [==============================] - 2s 48ms/step - loss: 0.8758 - accuracy: 0.6952 - val_loss: 1.2142 - val_accuracy: 0.5783\n",
            "Epoch 55/100\n",
            "37/37 [==============================] - 2s 53ms/step - loss: 0.8657 - accuracy: 0.7016 - val_loss: 1.2254 - val_accuracy: 0.5771\n",
            "Epoch 56/100\n",
            "37/37 [==============================] - 2s 52ms/step - loss: 0.8726 - accuracy: 0.6946 - val_loss: 1.2657 - val_accuracy: 0.5680\n",
            "Epoch 57/100\n",
            "37/37 [==============================] - 2s 48ms/step - loss: 0.8418 - accuracy: 0.7113 - val_loss: 1.2662 - val_accuracy: 0.5755\n",
            "Epoch 58/100\n",
            "37/37 [==============================] - 2s 49ms/step - loss: 0.8338 - accuracy: 0.7115 - val_loss: 1.2160 - val_accuracy: 0.5848\n",
            "Epoch 59/100\n",
            "37/37 [==============================] - 2s 51ms/step - loss: 0.8116 - accuracy: 0.7226 - val_loss: 1.2622 - val_accuracy: 0.5807\n",
            "Epoch 60/100\n",
            "37/37 [==============================] - 2s 49ms/step - loss: 0.8188 - accuracy: 0.7167 - val_loss: 1.2553 - val_accuracy: 0.5750\n",
            "Epoch 61/100\n",
            "37/37 [==============================] - 2s 49ms/step - loss: 0.8023 - accuracy: 0.7225 - val_loss: 1.2758 - val_accuracy: 0.5738\n",
            "Epoch 62/100\n",
            "37/37 [==============================] - 2s 51ms/step - loss: 0.7950 - accuracy: 0.7269 - val_loss: 1.2264 - val_accuracy: 0.5845\n",
            "Epoch 63/100\n",
            "37/37 [==============================] - 2s 50ms/step - loss: 0.7668 - accuracy: 0.7368 - val_loss: 1.2157 - val_accuracy: 0.5934\n",
            "Epoch 64/100\n",
            "37/37 [==============================] - 2s 49ms/step - loss: 0.7523 - accuracy: 0.7415 - val_loss: 1.2328 - val_accuracy: 0.5851\n",
            "Epoch 65/100\n",
            "37/37 [==============================] - 2s 49ms/step - loss: 0.7411 - accuracy: 0.7430 - val_loss: 1.2509 - val_accuracy: 0.5869\n",
            "Epoch 66/100\n",
            "37/37 [==============================] - 2s 51ms/step - loss: 0.7248 - accuracy: 0.7517 - val_loss: 1.2733 - val_accuracy: 0.5769\n",
            "Epoch 67/100\n",
            "37/37 [==============================] - 2s 49ms/step - loss: 0.7243 - accuracy: 0.7486 - val_loss: 1.2746 - val_accuracy: 0.5747\n",
            "Epoch 68/100\n",
            "37/37 [==============================] - 2s 49ms/step - loss: 0.7304 - accuracy: 0.7463 - val_loss: 1.2754 - val_accuracy: 0.5823\n",
            "Epoch 69/100\n",
            "37/37 [==============================] - 2s 53ms/step - loss: 0.6916 - accuracy: 0.7629 - val_loss: 1.2477 - val_accuracy: 0.5863\n",
            "Epoch 70/100\n",
            "37/37 [==============================] - 2s 53ms/step - loss: 0.6770 - accuracy: 0.7688 - val_loss: 1.3195 - val_accuracy: 0.5817\n",
            "Epoch 71/100\n",
            "37/37 [==============================] - 2s 49ms/step - loss: 0.6772 - accuracy: 0.7677 - val_loss: 1.2701 - val_accuracy: 0.5884\n",
            "Epoch 72/100\n",
            "37/37 [==============================] - 2s 51ms/step - loss: 0.6719 - accuracy: 0.7689 - val_loss: 1.2895 - val_accuracy: 0.5838\n",
            "Epoch 73/100\n",
            "37/37 [==============================] - 2s 51ms/step - loss: 0.6398 - accuracy: 0.7818 - val_loss: 1.3267 - val_accuracy: 0.5791\n",
            "Epoch 74/100\n",
            "37/37 [==============================] - 2s 50ms/step - loss: 0.6561 - accuracy: 0.7762 - val_loss: 1.2449 - val_accuracy: 0.5952\n",
            "Epoch 75/100\n",
            "37/37 [==============================] - 2s 51ms/step - loss: 0.6381 - accuracy: 0.7821 - val_loss: 1.2774 - val_accuracy: 0.5950\n",
            "Epoch 76/100\n",
            "37/37 [==============================] - 2s 53ms/step - loss: 0.6323 - accuracy: 0.7798 - val_loss: 1.2807 - val_accuracy: 0.5894\n",
            "Epoch 77/100\n",
            "37/37 [==============================] - 2s 51ms/step - loss: 0.6014 - accuracy: 0.7932 - val_loss: 1.3075 - val_accuracy: 0.5898\n",
            "Epoch 78/100\n",
            "37/37 [==============================] - 2s 49ms/step - loss: 0.5980 - accuracy: 0.7944 - val_loss: 1.3047 - val_accuracy: 0.5921\n",
            "Epoch 79/100\n",
            "37/37 [==============================] - 2s 52ms/step - loss: 0.5733 - accuracy: 0.8064 - val_loss: 1.4099 - val_accuracy: 0.5691\n",
            "Epoch 80/100\n",
            "37/37 [==============================] - 2s 52ms/step - loss: 0.6167 - accuracy: 0.7855 - val_loss: 1.4553 - val_accuracy: 0.5622\n",
            "Epoch 81/100\n",
            "37/37 [==============================] - 2s 50ms/step - loss: 0.5693 - accuracy: 0.8066 - val_loss: 1.3733 - val_accuracy: 0.5820\n",
            "Epoch 82/100\n",
            "37/37 [==============================] - 2s 52ms/step - loss: 0.5471 - accuracy: 0.8145 - val_loss: 1.3802 - val_accuracy: 0.5860\n",
            "Epoch 83/100\n",
            "37/37 [==============================] - 2s 54ms/step - loss: 0.5508 - accuracy: 0.8105 - val_loss: 1.4199 - val_accuracy: 0.5729\n",
            "Epoch 84/100\n",
            "37/37 [==============================] - 2s 53ms/step - loss: 0.5276 - accuracy: 0.8232 - val_loss: 1.3874 - val_accuracy: 0.5884\n",
            "Epoch 85/100\n",
            "37/37 [==============================] - 2s 52ms/step - loss: 0.5076 - accuracy: 0.8292 - val_loss: 1.3408 - val_accuracy: 0.5941\n",
            "Epoch 86/100\n",
            "37/37 [==============================] - 2s 50ms/step - loss: 0.4884 - accuracy: 0.8370 - val_loss: 1.3698 - val_accuracy: 0.5949\n",
            "Epoch 87/100\n",
            "37/37 [==============================] - 2s 49ms/step - loss: 0.4863 - accuracy: 0.8363 - val_loss: 1.4347 - val_accuracy: 0.5799\n",
            "Epoch 88/100\n",
            "37/37 [==============================] - 2s 52ms/step - loss: 0.4518 - accuracy: 0.8511 - val_loss: 1.4894 - val_accuracy: 0.5754\n",
            "Epoch 89/100\n",
            "37/37 [==============================] - 2s 52ms/step - loss: 0.4739 - accuracy: 0.8385 - val_loss: 1.4538 - val_accuracy: 0.5848\n",
            "Epoch 90/100\n",
            "37/37 [==============================] - 2s 54ms/step - loss: 0.4442 - accuracy: 0.8537 - val_loss: 1.4629 - val_accuracy: 0.5803\n",
            "Epoch 91/100\n",
            "37/37 [==============================] - 2s 50ms/step - loss: 0.4115 - accuracy: 0.8654 - val_loss: 1.4694 - val_accuracy: 0.5833\n",
            "Epoch 92/100\n",
            "37/37 [==============================] - 2s 49ms/step - loss: 0.4079 - accuracy: 0.8638 - val_loss: 1.4549 - val_accuracy: 0.5905\n",
            "Epoch 93/100\n",
            "37/37 [==============================] - 2s 52ms/step - loss: 0.4106 - accuracy: 0.8642 - val_loss: 1.4963 - val_accuracy: 0.5901\n",
            "Epoch 94/100\n",
            "37/37 [==============================] - 2s 51ms/step - loss: 0.3898 - accuracy: 0.8746 - val_loss: 1.4901 - val_accuracy: 0.5872\n",
            "Epoch 95/100\n",
            "37/37 [==============================] - 2s 49ms/step - loss: 0.3660 - accuracy: 0.8808 - val_loss: 1.5724 - val_accuracy: 0.5790\n",
            "Epoch 96/100\n",
            "37/37 [==============================] - 2s 52ms/step - loss: 0.3650 - accuracy: 0.8787 - val_loss: 1.5298 - val_accuracy: 0.5884\n",
            "Epoch 97/100\n",
            "37/37 [==============================] - 2s 54ms/step - loss: 0.3769 - accuracy: 0.8720 - val_loss: 1.5357 - val_accuracy: 0.5918\n",
            "Epoch 98/100\n",
            "37/37 [==============================] - 2s 49ms/step - loss: 0.3630 - accuracy: 0.8788 - val_loss: 1.5764 - val_accuracy: 0.5871\n",
            "Epoch 99/100\n",
            "37/37 [==============================] - 2s 49ms/step - loss: 0.3528 - accuracy: 0.8831 - val_loss: 1.6567 - val_accuracy: 0.5804\n",
            "Epoch 100/100\n",
            "37/37 [==============================] - 2s 52ms/step - loss: 0.3480 - accuracy: 0.8834 - val_loss: 1.6199 - val_accuracy: 0.5821\n"
          ]
        }
      ]
    },
    {
      "cell_type": "code",
      "source": [
        "ypred = model.predict(Xtest)\n",
        "ypred = np.argmax(ypred, axis = 1)"
      ],
      "metadata": {
        "colab": {
          "base_uri": "https://localhost:8080/"
        },
        "id": "kHYKi_9dcJGP",
        "outputId": "279b641e-011e-4dbf-ff6f-4a15676cf1ec"
      },
      "execution_count": null,
      "outputs": [
        {
          "output_type": "stream",
          "name": "stdout",
          "text": [
            "313/313 [==============================] - 1s 3ms/step\n"
          ]
        }
      ]
    },
    {
      "cell_type": "code",
      "source": [
        "score = accuracy_score(ypred, ytest)\n",
        "print('Accuracy score is', 100*score, \" %\")"
      ],
      "metadata": {
        "colab": {
          "base_uri": "https://localhost:8080/"
        },
        "id": "q1L-93ZmcxBV",
        "outputId": "8dd09334-b8fe-4096-fee8-731163cb170c"
      },
      "execution_count": null,
      "outputs": [
        {
          "output_type": "stream",
          "name": "stdout",
          "text": [
            "Accuracy score is 58.209999999999994  %\n"
          ]
        }
      ]
    }
  ]
}
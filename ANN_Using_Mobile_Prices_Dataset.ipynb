{
  "nbformat": 4,
  "nbformat_minor": 0,
  "metadata": {
    "colab": {
      "provenance": []
    },
    "kernelspec": {
      "name": "python3",
      "display_name": "Python 3"
    },
    "language_info": {
      "name": "python"
    }
  },
  "cells": [
    {
      "cell_type": "code",
      "execution_count": null,
      "metadata": {
        "id": "IzQm9QNhD0y4"
      },
      "outputs": [],
      "source": [
        "from keras.models import Sequential\n",
        "from keras.layers import Dense\n",
        "import pandas as pd\n",
        "from sklearn.preprocessing import StandardScaler\n",
        "from sklearn.preprocessing import OneHotEncoder\n",
        "from sklearn.model_selection import train_test_split\n",
        "import numpy as np\n",
        "from sklearn.metrics import accuracy_score"
      ]
    },
    {
      "cell_type": "code",
      "source": [
        "df = pd.read_csv(\"mobile_prices.csv\")\n",
        "X = df.iloc[:,:20]\n",
        "y = df.iloc[:,20:21].values\n",
        "ss = StandardScaler()\n",
        "X = ss.fit_transform(X)"
      ],
      "metadata": {
        "id": "2rEUR9UuE4RL"
      },
      "execution_count": null,
      "outputs": []
    },
    {
      "cell_type": "code",
      "source": [
        "Xtrain, Xtest, ytrain, ytest = train_test_split(X,y,test_size = 0.1)\n",
        "oh = OneHotEncoder()\n",
        "ytrain = oh.fit_transform(ytrain).toarray()"
      ],
      "metadata": {
        "id": "tzGGj2CDFav5"
      },
      "execution_count": null,
      "outputs": []
    },
    {
      "cell_type": "code",
      "source": [
        "model = Sequential()\n",
        "model.add(Dense(16,input_dim = 20, activation = \"relu\"))\n",
        "model.add(Dense(12,activation = \"relu\"))\n",
        "model.add(Dense(4, activation = \"softmax\"))\n",
        "model.compile(loss = \"categorical_crossentropy\", optimizer = \"adam\", metrics = [\"accuracy\"])"
      ],
      "metadata": {
        "id": "QY7p6jGLFsRJ"
      },
      "execution_count": null,
      "outputs": []
    },
    {
      "cell_type": "code",
      "source": [
        "history = model.fit(Xtrain, ytrain, epochs = 100, batch_size = 64)\n",
        "ypred = model.predict(Xtest)\n",
        "ypred = np.argmax(ypred,axis = 1)"
      ],
      "metadata": {
        "colab": {
          "base_uri": "https://localhost:8080/"
        },
        "id": "6REQBlo_GF4u",
        "outputId": "0e848b68-425a-49f6-8edf-7587454b13fb"
      },
      "execution_count": null,
      "outputs": [
        {
          "output_type": "stream",
          "name": "stdout",
          "text": [
            "Epoch 1/100\n",
            "29/29 [==============================] - 1s 2ms/step - loss: 1.4449 - accuracy: 0.2711\n",
            "Epoch 2/100\n",
            "29/29 [==============================] - 0s 2ms/step - loss: 1.3731 - accuracy: 0.3361\n",
            "Epoch 3/100\n",
            "29/29 [==============================] - 0s 2ms/step - loss: 1.3195 - accuracy: 0.3906\n",
            "Epoch 4/100\n",
            "29/29 [==============================] - 0s 2ms/step - loss: 1.2636 - accuracy: 0.4372\n",
            "Epoch 5/100\n",
            "29/29 [==============================] - 0s 2ms/step - loss: 1.2026 - accuracy: 0.4700\n",
            "Epoch 6/100\n",
            "29/29 [==============================] - 0s 2ms/step - loss: 1.1351 - accuracy: 0.5150\n",
            "Epoch 7/100\n",
            "29/29 [==============================] - 0s 2ms/step - loss: 1.0567 - accuracy: 0.5639\n",
            "Epoch 8/100\n",
            "29/29 [==============================] - 0s 2ms/step - loss: 0.9701 - accuracy: 0.6039\n",
            "Epoch 9/100\n",
            "29/29 [==============================] - 0s 2ms/step - loss: 0.8897 - accuracy: 0.6556\n",
            "Epoch 10/100\n",
            "29/29 [==============================] - 0s 2ms/step - loss: 0.8183 - accuracy: 0.6828\n",
            "Epoch 11/100\n",
            "29/29 [==============================] - 0s 2ms/step - loss: 0.7546 - accuracy: 0.7067\n",
            "Epoch 12/100\n",
            "29/29 [==============================] - 0s 2ms/step - loss: 0.6978 - accuracy: 0.7422\n",
            "Epoch 13/100\n",
            "29/29 [==============================] - 0s 2ms/step - loss: 0.6471 - accuracy: 0.7678\n",
            "Epoch 14/100\n",
            "29/29 [==============================] - 0s 3ms/step - loss: 0.6020 - accuracy: 0.7983\n",
            "Epoch 15/100\n",
            "29/29 [==============================] - 0s 2ms/step - loss: 0.5593 - accuracy: 0.8200\n",
            "Epoch 16/100\n",
            "29/29 [==============================] - 0s 2ms/step - loss: 0.5225 - accuracy: 0.8394\n",
            "Epoch 17/100\n",
            "29/29 [==============================] - 0s 2ms/step - loss: 0.4868 - accuracy: 0.8478\n",
            "Epoch 18/100\n",
            "29/29 [==============================] - 0s 3ms/step - loss: 0.4560 - accuracy: 0.8550\n",
            "Epoch 19/100\n",
            "29/29 [==============================] - 0s 3ms/step - loss: 0.4277 - accuracy: 0.8806\n",
            "Epoch 20/100\n",
            "29/29 [==============================] - 0s 5ms/step - loss: 0.4028 - accuracy: 0.8861\n",
            "Epoch 21/100\n",
            "29/29 [==============================] - 0s 5ms/step - loss: 0.3797 - accuracy: 0.8917\n",
            "Epoch 22/100\n",
            "29/29 [==============================] - 0s 6ms/step - loss: 0.3591 - accuracy: 0.9022\n",
            "Epoch 23/100\n",
            "29/29 [==============================] - 0s 5ms/step - loss: 0.3404 - accuracy: 0.9017\n",
            "Epoch 24/100\n",
            "29/29 [==============================] - 0s 5ms/step - loss: 0.3238 - accuracy: 0.9094\n",
            "Epoch 25/100\n",
            "29/29 [==============================] - 0s 3ms/step - loss: 0.3084 - accuracy: 0.9111\n",
            "Epoch 26/100\n",
            "29/29 [==============================] - 0s 3ms/step - loss: 0.2930 - accuracy: 0.9139\n",
            "Epoch 27/100\n",
            "29/29 [==============================] - 0s 3ms/step - loss: 0.2808 - accuracy: 0.9172\n",
            "Epoch 28/100\n",
            "29/29 [==============================] - 0s 3ms/step - loss: 0.2691 - accuracy: 0.9228\n",
            "Epoch 29/100\n",
            "29/29 [==============================] - 0s 3ms/step - loss: 0.2579 - accuracy: 0.9228\n",
            "Epoch 30/100\n",
            "29/29 [==============================] - 0s 3ms/step - loss: 0.2482 - accuracy: 0.9267\n",
            "Epoch 31/100\n",
            "29/29 [==============================] - 0s 3ms/step - loss: 0.2393 - accuracy: 0.9278\n",
            "Epoch 32/100\n",
            "29/29 [==============================] - 0s 2ms/step - loss: 0.2297 - accuracy: 0.9344\n",
            "Epoch 33/100\n",
            "29/29 [==============================] - 0s 3ms/step - loss: 0.2215 - accuracy: 0.9378\n",
            "Epoch 34/100\n",
            "29/29 [==============================] - 0s 3ms/step - loss: 0.2147 - accuracy: 0.9389\n",
            "Epoch 35/100\n",
            "29/29 [==============================] - 0s 3ms/step - loss: 0.2077 - accuracy: 0.9406\n",
            "Epoch 36/100\n",
            "29/29 [==============================] - 0s 3ms/step - loss: 0.2006 - accuracy: 0.9411\n",
            "Epoch 37/100\n",
            "29/29 [==============================] - 0s 3ms/step - loss: 0.1941 - accuracy: 0.9450\n",
            "Epoch 38/100\n",
            "29/29 [==============================] - 0s 3ms/step - loss: 0.1885 - accuracy: 0.9467\n",
            "Epoch 39/100\n",
            "29/29 [==============================] - 0s 3ms/step - loss: 0.1826 - accuracy: 0.9461\n",
            "Epoch 40/100\n",
            "29/29 [==============================] - 0s 3ms/step - loss: 0.1770 - accuracy: 0.9522\n",
            "Epoch 41/100\n",
            "29/29 [==============================] - 0s 3ms/step - loss: 0.1722 - accuracy: 0.9506\n",
            "Epoch 42/100\n",
            "29/29 [==============================] - 0s 3ms/step - loss: 0.1678 - accuracy: 0.9539\n",
            "Epoch 43/100\n",
            "29/29 [==============================] - 0s 3ms/step - loss: 0.1634 - accuracy: 0.9544\n",
            "Epoch 44/100\n",
            "29/29 [==============================] - 0s 3ms/step - loss: 0.1589 - accuracy: 0.9550\n",
            "Epoch 45/100\n",
            "29/29 [==============================] - 0s 3ms/step - loss: 0.1540 - accuracy: 0.9578\n",
            "Epoch 46/100\n",
            "29/29 [==============================] - 0s 3ms/step - loss: 0.1525 - accuracy: 0.9544\n",
            "Epoch 47/100\n",
            "29/29 [==============================] - 0s 3ms/step - loss: 0.1479 - accuracy: 0.9539\n",
            "Epoch 48/100\n",
            "29/29 [==============================] - 0s 2ms/step - loss: 0.1438 - accuracy: 0.9622\n",
            "Epoch 49/100\n",
            "29/29 [==============================] - 0s 3ms/step - loss: 0.1410 - accuracy: 0.9606\n",
            "Epoch 50/100\n",
            "29/29 [==============================] - 0s 3ms/step - loss: 0.1364 - accuracy: 0.9622\n",
            "Epoch 51/100\n",
            "29/29 [==============================] - 0s 3ms/step - loss: 0.1331 - accuracy: 0.9633\n",
            "Epoch 52/100\n",
            "29/29 [==============================] - 0s 4ms/step - loss: 0.1311 - accuracy: 0.9622\n",
            "Epoch 53/100\n",
            "29/29 [==============================] - 0s 3ms/step - loss: 0.1286 - accuracy: 0.9633\n",
            "Epoch 54/100\n",
            "29/29 [==============================] - 0s 2ms/step - loss: 0.1252 - accuracy: 0.9639\n",
            "Epoch 55/100\n",
            "29/29 [==============================] - 0s 3ms/step - loss: 0.1232 - accuracy: 0.9667\n",
            "Epoch 56/100\n",
            "29/29 [==============================] - 0s 3ms/step - loss: 0.1210 - accuracy: 0.9678\n",
            "Epoch 57/100\n",
            "29/29 [==============================] - 0s 3ms/step - loss: 0.1176 - accuracy: 0.9667\n",
            "Epoch 58/100\n",
            "29/29 [==============================] - 0s 3ms/step - loss: 0.1154 - accuracy: 0.9672\n",
            "Epoch 59/100\n",
            "29/29 [==============================] - 0s 3ms/step - loss: 0.1130 - accuracy: 0.9683\n",
            "Epoch 60/100\n",
            "29/29 [==============================] - 0s 2ms/step - loss: 0.1111 - accuracy: 0.9700\n",
            "Epoch 61/100\n",
            "29/29 [==============================] - 0s 2ms/step - loss: 0.1091 - accuracy: 0.9722\n",
            "Epoch 62/100\n",
            "29/29 [==============================] - 0s 2ms/step - loss: 0.1075 - accuracy: 0.9728\n",
            "Epoch 63/100\n",
            "29/29 [==============================] - 0s 2ms/step - loss: 0.1043 - accuracy: 0.9717\n",
            "Epoch 64/100\n",
            "29/29 [==============================] - 0s 2ms/step - loss: 0.1020 - accuracy: 0.9733\n",
            "Epoch 65/100\n",
            "29/29 [==============================] - 0s 2ms/step - loss: 0.1000 - accuracy: 0.9728\n",
            "Epoch 66/100\n",
            "29/29 [==============================] - 0s 2ms/step - loss: 0.0989 - accuracy: 0.9756\n",
            "Epoch 67/100\n",
            "29/29 [==============================] - 0s 2ms/step - loss: 0.0963 - accuracy: 0.9728\n",
            "Epoch 68/100\n",
            "29/29 [==============================] - 0s 2ms/step - loss: 0.0952 - accuracy: 0.9756\n",
            "Epoch 69/100\n",
            "29/29 [==============================] - 0s 2ms/step - loss: 0.0927 - accuracy: 0.9750\n",
            "Epoch 70/100\n",
            "29/29 [==============================] - 0s 2ms/step - loss: 0.0910 - accuracy: 0.9739\n",
            "Epoch 71/100\n",
            "29/29 [==============================] - 0s 2ms/step - loss: 0.0891 - accuracy: 0.9772\n",
            "Epoch 72/100\n",
            "29/29 [==============================] - 0s 2ms/step - loss: 0.0871 - accuracy: 0.9767\n",
            "Epoch 73/100\n",
            "29/29 [==============================] - 0s 2ms/step - loss: 0.0858 - accuracy: 0.9789\n",
            "Epoch 74/100\n",
            "29/29 [==============================] - 0s 2ms/step - loss: 0.0835 - accuracy: 0.9783\n",
            "Epoch 75/100\n",
            "29/29 [==============================] - 0s 2ms/step - loss: 0.0822 - accuracy: 0.9794\n",
            "Epoch 76/100\n",
            "29/29 [==============================] - 0s 2ms/step - loss: 0.0818 - accuracy: 0.9789\n",
            "Epoch 77/100\n",
            "29/29 [==============================] - 0s 2ms/step - loss: 0.0822 - accuracy: 0.9794\n",
            "Epoch 78/100\n",
            "29/29 [==============================] - 0s 2ms/step - loss: 0.0784 - accuracy: 0.9817\n",
            "Epoch 79/100\n",
            "29/29 [==============================] - 0s 2ms/step - loss: 0.0773 - accuracy: 0.9806\n",
            "Epoch 80/100\n",
            "29/29 [==============================] - 0s 2ms/step - loss: 0.0756 - accuracy: 0.9783\n",
            "Epoch 81/100\n",
            "29/29 [==============================] - 0s 2ms/step - loss: 0.0734 - accuracy: 0.9822\n",
            "Epoch 82/100\n",
            "29/29 [==============================] - 0s 3ms/step - loss: 0.0726 - accuracy: 0.9822\n",
            "Epoch 83/100\n",
            "29/29 [==============================] - 0s 4ms/step - loss: 0.0728 - accuracy: 0.9822\n",
            "Epoch 84/100\n",
            "29/29 [==============================] - 0s 5ms/step - loss: 0.0701 - accuracy: 0.9856\n",
            "Epoch 85/100\n",
            "29/29 [==============================] - 0s 4ms/step - loss: 0.0681 - accuracy: 0.9856\n",
            "Epoch 86/100\n",
            "29/29 [==============================] - 0s 3ms/step - loss: 0.0674 - accuracy: 0.9839\n",
            "Epoch 87/100\n",
            "29/29 [==============================] - 0s 3ms/step - loss: 0.0661 - accuracy: 0.9861\n",
            "Epoch 88/100\n",
            "29/29 [==============================] - 0s 2ms/step - loss: 0.0657 - accuracy: 0.9850\n",
            "Epoch 89/100\n",
            "29/29 [==============================] - 0s 2ms/step - loss: 0.0642 - accuracy: 0.9856\n",
            "Epoch 90/100\n",
            "29/29 [==============================] - 0s 2ms/step - loss: 0.0626 - accuracy: 0.9861\n",
            "Epoch 91/100\n",
            "29/29 [==============================] - 0s 2ms/step - loss: 0.0610 - accuracy: 0.9872\n",
            "Epoch 92/100\n",
            "29/29 [==============================] - 0s 3ms/step - loss: 0.0602 - accuracy: 0.9894\n",
            "Epoch 93/100\n",
            "29/29 [==============================] - 0s 3ms/step - loss: 0.0592 - accuracy: 0.9889\n",
            "Epoch 94/100\n",
            "29/29 [==============================] - 0s 2ms/step - loss: 0.0576 - accuracy: 0.9883\n",
            "Epoch 95/100\n",
            "29/29 [==============================] - 0s 2ms/step - loss: 0.0572 - accuracy: 0.9889\n",
            "Epoch 96/100\n",
            "29/29 [==============================] - 0s 2ms/step - loss: 0.0561 - accuracy: 0.9889\n",
            "Epoch 97/100\n",
            "29/29 [==============================] - 0s 3ms/step - loss: 0.0557 - accuracy: 0.9878\n",
            "Epoch 98/100\n",
            "29/29 [==============================] - 0s 4ms/step - loss: 0.0543 - accuracy: 0.9906\n",
            "Epoch 99/100\n",
            "29/29 [==============================] - 0s 3ms/step - loss: 0.0534 - accuracy: 0.9894\n",
            "Epoch 100/100\n",
            "29/29 [==============================] - 0s 3ms/step - loss: 0.0526 - accuracy: 0.9894\n",
            "7/7 [==============================] - 0s 2ms/step\n"
          ]
        }
      ]
    },
    {
      "cell_type": "code",
      "source": [
        "score = accuracy_score(ypred, ytest)\n",
        "print(\"Accuracy score is \", 100*score, \" % \")"
      ],
      "metadata": {
        "colab": {
          "base_uri": "https://localhost:8080/"
        },
        "id": "KKSJyprzGT6s",
        "outputId": "d04fe4e6-59ab-48c3-bf3a-acda89e94dfe"
      },
      "execution_count": null,
      "outputs": [
        {
          "output_type": "stream",
          "name": "stdout",
          "text": [
            "Accuracy score is  93.0  % \n"
          ]
        }
      ]
    }
  ]
}
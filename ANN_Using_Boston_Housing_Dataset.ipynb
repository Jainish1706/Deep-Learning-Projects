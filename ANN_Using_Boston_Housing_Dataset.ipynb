{
  "nbformat": 4,
  "nbformat_minor": 0,
  "metadata": {
    "colab": {
      "provenance": []
    },
    "kernelspec": {
      "name": "python3",
      "display_name": "Python 3"
    },
    "language_info": {
      "name": "python"
    }
  },
  "cells": [
    {
      "cell_type": "code",
      "execution_count": null,
      "metadata": {
        "id": "YsqIng6CX4-5"
      },
      "outputs": [],
      "source": [
        "from sklearn import datasets\n",
        "from keras.models import Sequential\n",
        "from keras.layers import Dense\n",
        "from sklearn.preprocessing import StandardScaler\n",
        "from sklearn.model_selection import train_test_split\n",
        "import numpy as np\n",
        "import pandas as pd"
      ]
    },
    {
      "cell_type": "code",
      "source": [
        "BosData = pd.read_csv('BostonHousing.csv')\n",
        "X = BosData.iloc[:,0:13]\n",
        "y = BosData.iloc[:,13]"
      ],
      "metadata": {
        "id": "MRdF0G5cYg8w"
      },
      "execution_count": null,
      "outputs": []
    },
    {
      "cell_type": "code",
      "source": [
        "ss = StandardScaler()\n",
        "X = ss.fit_transform(X)"
      ],
      "metadata": {
        "id": "i3Yihg6bY2Jn"
      },
      "execution_count": null,
      "outputs": []
    },
    {
      "cell_type": "code",
      "source": [
        "Xtrain, Xtest, Ytrain, Ytest = train_test_split(X,y,test_size = 0.2)"
      ],
      "metadata": {
        "id": "kisZ0g3YY8Ot"
      },
      "execution_count": null,
      "outputs": []
    },
    {
      "cell_type": "code",
      "source": [
        "model = Sequential()\n",
        "model.add(Dense(13,input_dim = 13, activation = \"relu\"))\n",
        "model.add(Dense(1))\n",
        "model.compile(loss = \"mean_squared_error\", optimizer = \"adam\", metrics = [\"accuracy\"])"
      ],
      "metadata": {
        "id": "L4uHnBBMZFCa"
      },
      "execution_count": null,
      "outputs": []
    },
    {
      "cell_type": "code",
      "source": [
        "history = model.fit(Xtrain,Ytrain,epochs = 150, batch_size = 10)\n",
        "ypred = model.predict(Xtest)\n",
        "ypred = ypred[:,0]"
      ],
      "metadata": {
        "id": "uBqOv8ewZYQs"
      },
      "execution_count": null,
      "outputs": []
    },
    {
      "cell_type": "code",
      "source": [
        "error = np.sum(np.abs(Ytest-ypred))/np.sum(np.abs(Ytest))*100\n",
        "print(\"Prediction error is: \", error, \" %\")"
      ],
      "metadata": {
        "colab": {
          "base_uri": "https://localhost:8080/"
        },
        "id": "uSDUo2fcZsgp",
        "outputId": "9dd98a8a-c239-4bd9-c902-971c24eb48a5"
      },
      "execution_count": null,
      "outputs": [
        {
          "output_type": "stream",
          "name": "stdout",
          "text": [
            "Prediction error is:  10.464173892194891  %\n"
          ]
        }
      ]
    }
  ]
}
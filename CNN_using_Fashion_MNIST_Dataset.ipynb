{
  "nbformat": 4,
  "nbformat_minor": 0,
  "metadata": {
    "colab": {
      "provenance": []
    },
    "kernelspec": {
      "name": "python3",
      "display_name": "Python 3"
    },
    "language_info": {
      "name": "python"
    }
  },
  "cells": [
    {
      "cell_type": "code",
      "execution_count": null,
      "metadata": {
        "id": "qQ_qs82ZeOnd"
      },
      "outputs": [],
      "source": [
        "import tensorflow as tf\n",
        "from tensorflow import keras\n",
        "from keras.datasets import fashion_mnist\n",
        "from keras.datasets import mnist\n",
        "import numpy as np\n",
        "import numpy.random as nr\n",
        "import matplotlib.pyplot as plt\n",
        "from keras.models import Sequential\n",
        "from keras.layers import Dense\n",
        "from sklearn.metrics import accuracy_score\n",
        "from keras.layers import Conv2D, Flatten\n",
        "nc = 10"
      ]
    },
    {
      "cell_type": "code",
      "source": [
        "(Xtrain,ytrain), (Xtest,ytest) = mnist.load_data()"
      ],
      "metadata": {
        "colab": {
          "base_uri": "https://localhost:8080/"
        },
        "id": "No0G5QThfVzZ",
        "outputId": "d793fd4a-d9aa-4293-ffa3-c4189a6dfef0"
      },
      "execution_count": null,
      "outputs": [
        {
          "output_type": "stream",
          "name": "stdout",
          "text": [
            "Downloading data from https://storage.googleapis.com/tensorflow/tf-keras-datasets/mnist.npz\n",
            "11490434/11490434 [==============================] - 0s 0us/step\n"
          ]
        }
      ]
    },
    {
      "cell_type": "code",
      "source": [
        "imgplot1 = plt.imshow(Xtrain[nr.randint(60000)])\n",
        "plt.show()"
      ],
      "metadata": {
        "colab": {
          "base_uri": "https://localhost:8080/",
          "height": 430
        },
        "id": "UGNUE6Lwfc4X",
        "outputId": "080e906c-0c97-4aa1-f97e-aa11c79344a8"
      },
      "execution_count": null,
      "outputs": [
        {
          "output_type": "display_data",
          "data": {
            "text/plain": [
              "<Figure size 640x480 with 1 Axes>"
            ],
            "image/png": "[encoded data removed]"
          },
          "metadata": {}
        }
      ]
    },
    {
      "cell_type": "code",
      "source": [
        "imgplot2 = plt.imshow(Xtrain[nr.randint(60000)])\n",
        "plt.show()"
      ],
      "metadata": {
        "colab": {
          "base_uri": "https://localhost:8080/",
          "height": 430
        },
        "id": "1Gzed6d4gj0Y",
        "outputId": "bf3dd48d-7692-4d71-cfcf-7750b9978a75"
      },
      "execution_count": null,
      "outputs": [
        {
          "output_type": "display_data",
          "data": {
            "text/plain": [
              "<Figure size 640x480 with 1 Axes>"
            ],
            "image/png": "[encoded data removed]"
          },
          "metadata": {}
        }
      ]
    },
    {
      "cell_type": "code",
      "source": [
        "Xtrain = Xtrain.reshape(60000,28,28,1)\n",
        "Xtest = Xtest.reshape(10000,28,28,1)"
      ],
      "metadata": {
        "id": "hxQNO09VguC9"
      },
      "execution_count": null,
      "outputs": []
    },
    {
      "cell_type": "code",
      "source": [
        "ytrainEnc = tf.one_hot(ytrain,depth = nc)\n",
        "ytestEnc = tf.one_hot(ytest,depth = nc)"
      ],
      "metadata": {
        "id": "80g8GZVJg65c"
      },
      "execution_count": null,
      "outputs": []
    },
    {
      "cell_type": "code",
      "source": [
        "model = Sequential()\n",
        "model.add(Conv2D(64,kernel_size = 3, activation = \"relu\", input_shape = (28,28,1)))\n",
        "model.add(Conv2D(32,kernel_size = 3, activation = \"relu\"))\n",
        "model.add(Flatten())\n",
        "model.add(Dense(10,activation = \"softmax\"))\n",
        "model.compile(loss = \"categorical_crossentropy\", optimizer = \"adam\", metrics = [\"accuracy\"])\n",
        "model.fit(Xtrain,ytrainEnc,validation_data = (Xtest,ytestEnc), epochs = 3)"
      ],
      "metadata": {
        "colab": {
          "base_uri": "https://localhost:8080/"
        },
        "id": "khsh8AN8hD5S",
        "outputId": "12d20062-04b7-4cca-c17d-0c038cbe2fc4"
      },
      "execution_count": null,
      "outputs": [
        {
          "output_type": "stream",
          "name": "stdout",
          "text": [
            "Epoch 1/3\n",
            "1875/1875 [==============================] - 177s 93ms/step - loss: 0.2463 - accuracy: 0.9528 - val_loss: 0.1056 - val_accuracy: 0.9661\n",
            "Epoch 2/3\n",
            "1875/1875 [==============================] - 175s 94ms/step - loss: 0.0661 - accuracy: 0.9797 - val_loss: 0.0829 - val_accuracy: 0.9755\n",
            "Epoch 3/3\n",
            "1875/1875 [==============================] - 176s 94ms/step - loss: 0.0466 - accuracy: 0.9852 - val_loss: 0.1012 - val_accuracy: 0.9735\n"
          ]
        },
        {
          "output_type": "execute_result",
          "data": {
            "text/plain": [
              "<keras.src.callbacks.History at 0x7ec0e71b0be0>"
            ]
          },
          "metadata": {},
          "execution_count": 9
        }
      ]
    }
  ]
}
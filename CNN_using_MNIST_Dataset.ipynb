{
  "nbformat": 4,
  "nbformat_minor": 0,
  "metadata": {
    "colab": {
      "provenance": []
    },
    "kernelspec": {
      "name": "python3",
      "display_name": "Python 3"
    },
    "language_info": {
      "name": "python"
    }
  },
  "cells": [
    {
      "cell_type": "code",
      "execution_count": null,
      "metadata": {
        "id": "iTjcypyvg7mV"
      },
      "outputs": [],
      "source": [
        "import tensorflow as tf\n",
        "from tensorflow import keras\n",
        "from keras.datasets import fashion_mnist\n",
        "from keras.datasets import mnist\n",
        "from keras.layers import Conv2D, Flatten\n",
        "import numpy as np\n",
        "import numpy.random as nr\n",
        "import matplotlib.pyplot as plt\n",
        "from keras.models import Sequential\n",
        "from keras.layers import Dense\n",
        "from sklearn.metrics import accuracy_score\n",
        "nc = 10"
      ]
    },
    {
      "cell_type": "code",
      "source": [
        "(Xtrain, ytrain), (Xtest, ytest) = fashion_mnist.load_data()\n",
        "print(Xtrain.shape)\n",
        "print(ytrain.shape)\n",
        "print(Xtest.shape)\n",
        "print(ytest.shape)"
      ],
      "metadata": {
        "colab": {
          "base_uri": "https://localhost:8080/"
        },
        "id": "qog-ROdZuF-E",
        "outputId": "bc1368de-bb47-4888-d9ad-a3eb55115e6f"
      },
      "execution_count": null,
      "outputs": [
        {
          "output_type": "stream",
          "name": "stdout",
          "text": [
            "(60000, 28, 28)\n",
            "(60000,)\n",
            "(10000, 28, 28)\n",
            "(10000,)\n"
          ]
        }
      ]
    },
    {
      "cell_type": "code",
      "source": [
        "imgplot1 = plt.imshow(Xtrain[nr.randint(60000)])\n",
        "plt.show()"
      ],
      "metadata": {
        "colab": {
          "base_uri": "https://localhost:8080/",
          "height": 430
        },
        "id": "KLBg7LVtuRLe",
        "outputId": "5105df01-9544-4248-c64b-7dbced8bc8bb"
      },
      "execution_count": null,
      "outputs": [
        {
          "output_type": "display_data",
          "data": {
            "text/plain": [
              "<Figure size 640x480 with 1 Axes>"
            ],
            "image/png": "[encoded data removed]"
          },
          "metadata": {}
        }
      ]
    },
    {
      "cell_type": "code",
      "source": [
        "imgplot2 = plt.imshow(Xtrain[nr.randint(60000)])\n",
        "plt.show()"
      ],
      "metadata": {
        "colab": {
          "base_uri": "https://localhost:8080/",
          "height": 430
        },
        "id": "Z8LGUzHNueSR",
        "outputId": "a8ca6b4e-05b4-47af-93dc-7b3605c8074b"
      },
      "execution_count": null,
      "outputs": [
        {
          "output_type": "display_data",
          "data": {
            "text/plain": [
              "<Figure size 640x480 with 1 Axes>"
            ],
            "image/png": "[encoded data removed]"
          },
          "metadata": {}
        }
      ]
    },
    {
      "cell_type": "code",
      "source": [
        "Xtrain = Xtrain.reshape(60000,28,28,1)\n",
        "Xtest = Xtest.reshape(10000,28,28,1)\n",
        "print(Xtrain.shape)\n",
        "print(Xtest.shape)"
      ],
      "metadata": {
        "colab": {
          "base_uri": "https://localhost:8080/"
        },
        "id": "xCbzm9aquoEh",
        "outputId": "0dad935b-4e11-4f5c-e866-e6d4c75faa2f"
      },
      "execution_count": null,
      "outputs": [
        {
          "output_type": "stream",
          "name": "stdout",
          "text": [
            "(60000, 28, 28, 1)\n",
            "(10000, 28, 28, 1)\n"
          ]
        }
      ]
    },
    {
      "cell_type": "code",
      "source": [
        "ytrainEnc = tf.one_hot(ytrain, depth = nc)\n",
        "ytestEnc = tf.one_hot(ytest, depth = nc)"
      ],
      "metadata": {
        "id": "Z1LcH7L5uxzO"
      },
      "execution_count": null,
      "outputs": []
    },
    {
      "cell_type": "code",
      "source": [
        "model = Sequential()\n",
        "model.add(Conv2D(64,kernel_size = 3, activation = \"relu\", input_shape = (28,28,1)))\n",
        "model.add(Conv2D(32,kernel_size = 3, activation = \"relu\"))\n",
        "model.add(Flatten())\n",
        "model.add(Dense(10, activation = \"softmax\"))\n",
        "model.compile(loss = \"categorical_crossentropy\", optimizer = \"adam\", metrics = [\"accuracy\"])\n",
        "model.fit(Xtrain, ytrainEnc, validation_data = (Xtest, ytestEnc), epochs = 3)"
      ],
      "metadata": {
        "colab": {
          "base_uri": "https://localhost:8080/"
        },
        "id": "iToLFy1pvB71",
        "outputId": "5c7c0bda-16df-445e-9efe-166a4bf0e2af"
      },
      "execution_count": null,
      "outputs": [
        {
          "output_type": "stream",
          "name": "stdout",
          "text": [
            "Epoch 1/3\n",
            "1875/1875 [==============================] - 170s 90ms/step - loss: 0.5282 - accuracy: 0.8297 - val_loss: 0.4021 - val_accuracy: 0.8585\n",
            "Epoch 2/3\n",
            "1875/1875 [==============================] - 168s 90ms/step - loss: 0.3227 - accuracy: 0.8837 - val_loss: 0.3875 - val_accuracy: 0.8700\n",
            "Epoch 3/3\n",
            "1875/1875 [==============================] - 168s 89ms/step - loss: 0.2703 - accuracy: 0.9007 - val_loss: 0.3716 - val_accuracy: 0.8725\n"
          ]
        },
        {
          "output_type": "execute_result",
          "data": {
            "text/plain": [
              "<keras.src.callbacks.History at 0x7a60f700ee30>"
            ]
          },
          "metadata": {},
          "execution_count": 8
        }
      ]
    },
    {
      "cell_type": "code",
      "source": [
        "ypred = model.predict(Xtest)\n",
        "ypred = np.argmax(ypred, axis = 1)\n",
        "score = accuracy_score(ypred, ytest)\n",
        "print(\"Accuracy score is: \", 100*score, \" %\")"
      ],
      "metadata": {
        "colab": {
          "base_uri": "https://localhost:8080/"
        },
        "id": "dZqQ8ITD0stD",
        "outputId": "b00d7760-058b-4168-9989-8352106213ad"
      },
      "execution_count": null,
      "outputs": [
        {
          "output_type": "stream",
          "name": "stdout",
          "text": [
            "313/313 [==============================] - 10s 33ms/step\n",
            "Accuracy score is:  87.25  %\n"
          ]
        }
      ]
    }
  ]
}
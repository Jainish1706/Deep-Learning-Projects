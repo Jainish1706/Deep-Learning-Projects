{
  "nbformat": 4,
  "nbformat_minor": 0,
  "metadata": {
    "colab": {
      "provenance": [],
      "gpuType": "T4"
    },
    "kernelspec": {
      "name": "python3",
      "display_name": "Python 3"
    },
    "language_info": {
      "name": "python"
    },
    "accelerator": "GPU"
  },
  "cells": [
    {
      "cell_type": "code",
      "source": [
        "import tensorflow as tf\n",
        "from tensorflow import keras\n",
        "from keras.preprocessing.image import ImageDataGenerator\n",
        "import pandas as pd\n",
        "import numpy as np\n",
        "import os\n",
        "import tensorflow as tf\n",
        "import cv2\n",
        "from keras.models import Sequential, Model\n",
        "from  matplotlib import pyplot as plt\n",
        "import matplotlib.image as mpimg\n",
        "%matplotlib inline\n",
        "from google.colab.patches import cv2_imshow\n",
        "from skimage import io\n",
        "import zipfile\n",
        "import os\n",
        "from keras.layers import Conv2D,MaxPool2D,Dense,Flatten,Dropout\n",
        "from keras.models import Sequential"
      ],
      "metadata": {
        "id": "yDcXxrcuXWJ0"
      },
      "execution_count": null,
      "outputs": []
    },
    {
      "cell_type": "code",
      "source": [
        "from google.colab import drive\n",
        "drive.mount('/content/drive')"
      ],
      "metadata": {
        "id": "69liBGYwP6ja"
      },
      "execution_count": null,
      "outputs": []
    },
    {
      "cell_type": "code",
      "source": [
        "zip_train = zipfile.ZipFile('/content/drive/MyDrive/Animal.zip', 'r') #Opens the zip file in read mode\n",
        "zip_train.extractall('/tmp') #Extracts the files into the /tmp folder\n",
        "zip_train.close()"
      ],
      "metadata": {
        "id": "BNHhHjZaXdGF"
      },
      "execution_count": null,
      "outputs": []
    },
    {
      "cell_type": "code",
      "source": [
        "train_datagen = ImageDataGenerator(rescale = 1/255.,\n",
        "                                   shear_range=0.2,\n",
        "                                   zoom_range=0.2,\n",
        "                                   horizontal_flip=True\n",
        "                                  )"
      ],
      "metadata": {
        "id": "VwaFjHuaajw1"
      },
      "execution_count": null,
      "outputs": []
    },
    {
      "cell_type": "code",
      "source": [
        "train_data = train_datagen.flow_from_directory('/tmp/animals/train',\n",
        "                                               class_mode='categorical',\n",
        "                                               classes = ['cat','dog','elephant','horse','lion'],\n",
        "                                                 target_size = (120,120),\n",
        "                                                 batch_size = 32,\n",
        "                                                 color_mode ='grayscale',\n",
        "                                                 shuffle = True)\n",
        "\n",
        "train_data.class_indices"
      ],
      "metadata": {
        "id": "YIYC9ajla68u"
      },
      "execution_count": null,
      "outputs": []
    },
    {
      "cell_type": "code",
      "source": [
        "test_datagen = ImageDataGenerator(rescale = 1./255)"
      ],
      "metadata": {
        "id": "Er29lkQvcfl2"
      },
      "execution_count": null,
      "outputs": []
    },
    {
      "cell_type": "code",
      "source": [
        "test_data = test_datagen.flow_from_directory('/tmp/animals/val',\n",
        "                                               class_mode='categorical',\n",
        "                                               classes = ['cat','dog','elephant','horse','lion'],\n",
        "                                                 target_size = (120,120),\n",
        "                                                 batch_size = 32,\n",
        "                                                 color_mode ='grayscale')\n",
        "\n",
        "test_data.class_indices"
      ],
      "metadata": {
        "id": "iNpydj8wbqGk"
      },
      "execution_count": null,
      "outputs": []
    },
    {
      "cell_type": "code",
      "source": [
        "def plot_loss(history):\n",
        "    plt.figure()\n",
        "    plt.plot(history.history['loss'],label='train_loss')\n",
        "    plt.plot(history.history['val_loss'],label='val_loss')\n",
        "    plt.title('loss')\n",
        "    plt.legend()\n",
        "    # plt.figure()\n",
        "    # plt.plot(history.history['precision_4'],label='train_precision')\n",
        "    # plt.plot(history.history['val_precision_4'],label='val_precision')\n",
        "    # plt.legend()\n",
        "    # plt.figure()\n",
        "    # plt.plot(history.history['recall_4'],label='train_recall')\n",
        "    # plt.plot(history.history['val_recall_4'],label='val_recall')\n",
        "    # plt.legend()\n",
        "\n",
        "def plot_recall(history):\n",
        "  plt.figure()\n",
        "  plt.plot(history.history['recall_4'],label='train_recall')\n",
        "  plt.plot(history.history['val_recall_4'],label='val_recall')\n",
        "  plt.title('Recall')\n",
        "  plt.legend()\n",
        "\n",
        "def plot_precision(history):\n",
        "  plt.figure()\n",
        "  plt.plot(history.history['precision_4'],label='train_precision')\n",
        "  plt.plot(history.history['val_precision_4'],label='val_precision')\n",
        "  plt.title('Precision')\n",
        "  plt.legend()"
      ],
      "metadata": {
        "id": "Akg7c6ZB5xC8"
      },
      "execution_count": null,
      "outputs": []
    },
    {
      "cell_type": "code",
      "source": [
        "\n",
        "model_1 = Sequential()\n",
        "model_1.add(Conv2D(32,(3,3), activation = 'relu', input_shape = (120,120,1)))\n",
        "model_1.add(Conv2D(32,(3,3), activation = 'relu'))\n",
        "model_1.add(MaxPool2D(2))\n",
        "model_1.add(Dropout(0.5))\n",
        "model_1.add(Conv2D(64,(3,3), activation = 'relu', input_shape = (120,120,1)))\n",
        "model_1.add(Conv2D(64,(3,3), activation = 'relu'))\n",
        "model_1.add(MaxPool2D(2))\n",
        "model_1.add(Flatten())\n",
        "model_1.add(Dense(128, activation = 'relu'))\n",
        "model_1.add(Dense(5, activation = 'softmax'))\n",
        "model_1.compile(loss=\"categorical_crossentropy\",\n",
        "              optimizer=keras.optimizers.Adam(),\n",
        "              metrics=[\n",
        "                  keras.metrics.Recall(),\n",
        "                  keras.metrics.Precision()\n",
        "              ])\n",
        "\n",
        "history_1 = model_1.fit(train_data,\n",
        "           steps_per_epoch = len(train_data),\n",
        "           validation_data = test_data,\n",
        "           validation_steps = int(0.25*len(test_data)),\n",
        "           epochs=10)"
      ],
      "metadata": {
        "id": "MyweIaUiO0U8"
      },
      "execution_count": null,
      "outputs": []
    },
    {
      "cell_type": "code",
      "source": [
        "plot_loss(history_1)"
      ],
      "metadata": {
        "id": "-1MVVg4EQKVY"
      },
      "execution_count": null,
      "outputs": []
    },
    {
      "cell_type": "code",
      "source": [
        "plot_precision(history_1)"
      ],
      "metadata": {
        "id": "etExlzWTYoLv"
      },
      "execution_count": null,
      "outputs": []
    },
    {
      "cell_type": "code",
      "source": [
        "plot_recall(history_1)"
      ],
      "metadata": {
        "id": "8ds_XMAPYw4x"
      },
      "execution_count": null,
      "outputs": []
    },
    {
      "cell_type": "code",
      "source": [
        "model_2 = Sequential()\n",
        "model_2.add(Conv2D(32,(3,3), activation = 'relu', input_shape = (120,120,1)))\n",
        "model_2.add(Conv2D(32,(3,3), activation = 'relu'))\n",
        "model_2.add(MaxPool2D(2))\n",
        "model_2.add(Dropout(0.5))\n",
        "model_2.add(Conv2D(64,(3,3), activation = 'relu', input_shape = (120,120,1)))\n",
        "model_2.add(Conv2D(64,(3,3), activation = 'relu'))\n",
        "model_2.add(MaxPool2D(2))\n",
        "model_2.add(Flatten())\n",
        "model_2.add(Dense(128, activation = 'relu'))\n",
        "model_2.add(Dense(5, activation = 'softmax'))\n",
        "model_2.compile(loss=\"categorical_crossentropy\",\n",
        "              optimizer=keras.optimizers.Adadelta(),\n",
        "              metrics=[\n",
        "                  keras.metrics.Recall(),\n",
        "                  keras.metrics.Precision()\n",
        "              ])\n",
        "\n",
        "history_2 = model_2.fit(train_data,\n",
        "           steps_per_epoch = len(train_data),\n",
        "           validation_data = test_data,\n",
        "           validation_steps = int(0.25*len(test_data)),\n",
        "           epochs=10)"
      ],
      "metadata": {
        "id": "r2atIMquTTa-"
      },
      "execution_count": null,
      "outputs": []
    },
    {
      "cell_type": "code",
      "source": [
        "model_3 = Sequential()\n",
        "model_3.add(Conv2D(32,(3,3), activation = 'relu', input_shape = (120,120,1)))\n",
        "model_3.add(Conv2D(32,(3,3), activation = 'relu'))\n",
        "model_3.add(MaxPool2D(2))\n",
        "model_3.add(Dropout(0.5))\n",
        "model_3.add(Conv2D(64,(3,3), activation = 'relu', input_shape = (120,120,1)))\n",
        "model_3.add(Conv2D(64,(3,3), activation = 'relu'))\n",
        "model_3.add(MaxPool2D(2))\n",
        "model_3.add(Flatten())\n",
        "model_3.add(Dense(128, activation = 'relu'))\n",
        "model_3.add(Dense(5, activation = 'softmax'))\n",
        "model_3.compile(loss=\"categorical_crossentropy\",\n",
        "              optimizer=keras.optimizers.Adagrad(),\n",
        "              metrics=[\n",
        "                  keras.metrics.Recall(),\n",
        "                  keras.metrics.Precision()\n",
        "              ])\n",
        "\n",
        "history_3 = model_3.fit(train_data,\n",
        "           steps_per_epoch = len(train_data),\n",
        "           validation_data = test_data,\n",
        "           validation_steps = int(0.25*len(test_data)),\n",
        "           epochs=10)"
      ],
      "metadata": {
        "id": "QeYKSkhKTUCZ"
      },
      "execution_count": null,
      "outputs": []
    },
    {
      "cell_type": "code",
      "source": [
        "model_4 = Sequential()\n",
        "model_4.add(Conv2D(32,(3,3), activation = 'relu', input_shape = (120,120,1)))\n",
        "model_4.add(Conv2D(32,(3,3), activation = 'relu'))\n",
        "model_4.add(MaxPool2D(2))\n",
        "model_4.add(Dropout(0.5))\n",
        "model_4.add(Conv2D(64,(3,3), activation = 'relu', input_shape = (120,120,1)))\n",
        "model_4.add(Conv2D(64,(3,3), activation = 'relu'))\n",
        "model_4.add(MaxPool2D(2))\n",
        "model_4.add(Flatten())\n",
        "model_4.add(Dense(128, activation = 'relu'))\n",
        "model_4.add(Dense(5, activation = 'softmax'))\n",
        "model_4.compile(loss=\"categorical_crossentropy\",\n",
        "              optimizer=keras.optimizers.RMSprop(),\n",
        "              metrics=[\n",
        "                  keras.metrics.Recall(),\n",
        "                  keras.metrics.Precision()\n",
        "              ])\n",
        "\n",
        "history_4 = model_4.fit(train_data,\n",
        "           steps_per_epoch = len(train_data),\n",
        "           validation_data = test_data,\n",
        "           validation_steps = int(0.25*len(test_data)),\n",
        "           epochs=10)"
      ],
      "metadata": {
        "id": "aXUfygcZTUcg"
      },
      "execution_count": null,
      "outputs": []
    },
    {
      "cell_type": "code",
      "source": [
        "model_5 = Sequential()\n",
        "model_5.add(Conv2D(32,(3,3), activation = 'relu', input_shape = (120,120,1)))\n",
        "model_5.add(Conv2D(32,(3,3), activation = 'relu'))\n",
        "model_5.add(MaxPool2D(2))\n",
        "model_5.add(Dropout(0.5))\n",
        "model_5.add(Conv2D(64,(3,3), activation = 'relu', input_shape = (120,120,1)))\n",
        "model_5.add(Conv2D(64,(3,3), activation = 'relu'))\n",
        "model_5.add(MaxPool2D(2))\n",
        "model_5.add(Flatten())\n",
        "model_5.add(Dense(128, activation = 'relu'))\n",
        "model_5.add(Dense(5, activation = 'softmax'))\n",
        "model_5.compile(loss=\"categorical_crossentropy\",\n",
        "              optimizer=keras.optimizers.SGD(),\n",
        "              metrics=[\n",
        "                  keras.metrics.Recall(),\n",
        "                  keras.metrics.Precision()\n",
        "              ])\n",
        "\n",
        "history_5 = model_5.fit(train_data,\n",
        "           steps_per_epoch = len(train_data),\n",
        "           validation_data = test_data,\n",
        "           validation_steps = int(0.25*len(test_data)),\n",
        "           epochs=10)"
      ],
      "metadata": {
        "id": "p7n32A_pTU3e"
      },
      "execution_count": null,
      "outputs": []
    }
  ]
}
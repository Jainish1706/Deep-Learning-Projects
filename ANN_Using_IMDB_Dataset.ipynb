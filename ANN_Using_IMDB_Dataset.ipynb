{
  "nbformat": 4,
  "nbformat_minor": 0,
  "metadata": {
    "colab": {
      "provenance": []
    },
    "kernelspec": {
      "name": "python3",
      "display_name": "Python 3"
    },
    "language_info": {
      "name": "python"
    }
  },
  "cells": [
    {
      "cell_type": "code",
      "execution_count": null,
      "metadata": {
        "id": "9t7ZehvWh3x0"
      },
      "outputs": [],
      "source": [
        "from keras.datasets import imdb\n",
        "import numpy as np\n",
        "import matplotlib.pyplot as plt\n",
        "from keras.models import Sequential\n",
        "from keras.layers import Dense\n",
        "from sklearn.metrics  import accuracy_score"
      ]
    },
    {
      "cell_type": "code",
      "source": [
        "(Xtrain, ytrain), (Xtest, ytest) = imdb.load_data(num_words = 10000)"
      ],
      "metadata": {
        "id": "8umnIdVRiQry"
      },
      "execution_count": null,
      "outputs": []
    },
    {
      "cell_type": "code",
      "source": [
        "def vectorize(sequences, dimension = 10000):\n",
        "  results = np.zeros((len(sequences), dimension))\n",
        "  for i in range(len(sequences)):\n",
        "    results[i,sequences[i]] = 1.0\n",
        "  return results"
      ],
      "metadata": {
        "id": "1maAyIqvijDp"
      },
      "execution_count": null,
      "outputs": []
    },
    {
      "cell_type": "code",
      "source": [
        "Xtrain = vectorize(Xtrain)\n",
        "ytrain = np.array(ytrain).astype(\"float32\")"
      ],
      "metadata": {
        "id": "vTT697B4jBXQ"
      },
      "execution_count": null,
      "outputs": []
    },
    {
      "cell_type": "code",
      "source": [
        "model = Sequential()\n",
        "model.add(Dense(50, input_dim = 10000, activation = \"relu\"))\n",
        "model.add(Dense(50,activation = \"relu\"))\n",
        "model.add(Dense(50, activation = \"relu\"))\n",
        "model.add(Dense(1, activation = \"sigmoid\"))\n",
        "model.compile(loss = \"binary_crossentropy\", optimizer = \"adam\", metrics = [\"accuracy\"])"
      ],
      "metadata": {
        "id": "99XkgkOUjMlh"
      },
      "execution_count": null,
      "outputs": []
    },
    {
      "cell_type": "code",
      "source": [
        "history = model.fit(Xtrain, ytrain, epochs = 10, batch_size = 550)"
      ],
      "metadata": {
        "colab": {
          "base_uri": "https://localhost:8080/"
        },
        "id": "oZOc6HWkj51h",
        "outputId": "9a780213-1972-4e2f-b780-78abc06bdb07"
      },
      "execution_count": null,
      "outputs": [
        {
          "output_type": "stream",
          "name": "stdout",
          "text": [
            "Epoch 1/10\n",
            "46/46 [==============================] - 8s 134ms/step - loss: 0.4102 - accuracy: 0.8292\n",
            "Epoch 2/10\n",
            "46/46 [==============================] - 2s 44ms/step - loss: 0.1924 - accuracy: 0.9280\n",
            "Epoch 3/10\n",
            "46/46 [==============================] - 2s 43ms/step - loss: 0.1396 - accuracy: 0.9497\n",
            "Epoch 4/10\n",
            "46/46 [==============================] - 2s 43ms/step - loss: 0.1059 - accuracy: 0.9638\n",
            "Epoch 5/10\n",
            "46/46 [==============================] - 2s 43ms/step - loss: 0.0763 - accuracy: 0.9752\n",
            "Epoch 6/10\n",
            "46/46 [==============================] - 3s 58ms/step - loss: 0.0439 - accuracy: 0.9872\n",
            "Epoch 7/10\n",
            "46/46 [==============================] - 3s 62ms/step - loss: 0.0242 - accuracy: 0.9952\n",
            "Epoch 8/10\n",
            "46/46 [==============================] - 2s 43ms/step - loss: 0.0125 - accuracy: 0.9980\n",
            "Epoch 9/10\n",
            "46/46 [==============================] - 2s 43ms/step - loss: 0.0059 - accuracy: 0.9993\n",
            "Epoch 10/10\n",
            "46/46 [==============================] - 2s 43ms/step - loss: 0.0027 - accuracy: 0.9997\n"
          ]
        }
      ]
    },
    {
      "cell_type": "code",
      "source": [
        "Xtest = vectorize(Xtest)\n",
        "ypred = model.predict(Xtest)\n",
        "ypred = np.round(ypred)"
      ],
      "metadata": {
        "colab": {
          "base_uri": "https://localhost:8080/"
        },
        "id": "rlxXJA2dkA4F",
        "outputId": "2b8e085c-b0ab-4281-e4ff-2c0c87b5a461"
      },
      "execution_count": null,
      "outputs": [
        {
          "output_type": "stream",
          "name": "stdout",
          "text": [
            "782/782 [==============================] - 3s 3ms/step\n"
          ]
        }
      ]
    },
    {
      "cell_type": "code",
      "source": [
        "score = accuracy_score(ypred, ytest)\n",
        "print(\"Accuracy score is \", 100*score, \" %\")"
      ],
      "metadata": {
        "colab": {
          "base_uri": "https://localhost:8080/"
        },
        "id": "8JHxNk3jkLnC",
        "outputId": "acb2145d-d981-4874-8079-e0eefb6f1695"
      },
      "execution_count": null,
      "outputs": [
        {
          "output_type": "stream",
          "name": "stdout",
          "text": [
            "Accuracy score is  85.416  %\n"
          ]
        }
      ]
    }
  ]
}